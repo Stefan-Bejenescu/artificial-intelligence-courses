{
 "cells": [
  {
   "cell_type": "markdown",
   "id": "8b0a04e5-c8da-4497-8714-3dbffa6de3c6",
   "metadata": {},
   "source": [
    "## Curs 1 - Perceptronul McCulloch-Pitts"
   ]
  },
  {
   "cell_type": "markdown",
   "id": "e29d46ca-7115-493b-b8bb-1ac0741405e4",
   "metadata": {},
   "source": [
    "### Duck Science"
   ]
  },
  {
   "cell_type": "markdown",
   "id": "31d0beae-cff4-4c7f-956a-cd5431a34a24",
   "metadata": {},
   "source": [
    "In 1935, Konrad Lorenz descoperea mecanismul de \"imprinting\" prin care puii de rata se ataseaza de primul obiect __in miscare__ pe care il vad dupa ce ies din ou. Acesta concluzioneaza, printr-o serie de experimente, ca puisorii se ataseaza de obiecte __invatand sa recunoasca tipare__ ale acestora - puisorii isi recunosc \"mama\" dupa tiparele pe care le asociaza in creierele lor cu aceasta notiune."
   ]
  },
  {
   "cell_type": "markdown",
   "id": "96cd7563-6cc0-44cf-b9a8-ab110e634fe9",
   "metadata": {},
   "source": [
    "Astfel, Lorenz a argumentat ca, in natura, creierele au evoluat pentru a fi __detectoare de tipare foarte abile__ - detectia tiparelor, spune acesta, confera un avantaj in lupta pentru supravietuire, evolutia naturala promovand, astfel, aparitia creierelor din ce in ce mai sofisticate in timp, atu al speciilor din ce in ce mai dezvoltate."
   ]
  },
  {
   "cell_type": "markdown",
   "id": "e660411c-b708-494a-8a93-b52c24a13930",
   "metadata": {},
   "source": [
    "### Logica = Computatie"
   ]
  },
  {
   "cell_type": "markdown",
   "id": "b2b432d7-ce6a-4157-a051-2ed3bf04db6f",
   "metadata": {},
   "source": [
    "Tot prin acea perioada se popularizau ideile unui matematician britanic ce va fi numit ulterior unul din fondatorii computer science-ului modern - Alan Turing. Acesta a legat in lucrarile sale notiunea de computatie - algoritmi, seturi de pasi bine definiti care sa rezolve o problema data - cu notiunea de logica booleana."
   ]
  },
  {
   "cell_type": "markdown",
   "id": "587bee14-b998-4ec9-b055-cf56cd3259ff",
   "metadata": {},
   "source": [
    "Orice algoritm, orice forma de computatie, spunea el, poate fi creata folosind numai uneltele logicii matematice. Aceasta idee a inspirat ulterior crearea calculatoarelor electronice - deoarece circuitele digitale sunt o tehnologie care opereaza la nivelul logicii matematice - deci poate face computatie. (De fapt __computatie__ vine de la __computer__)."
   ]
  },
  {
   "cell_type": "markdown",
   "id": "f68c2257-833e-4b26-99ff-8835bcd925b9",
   "metadata": {},
   "source": [
    "Recunoasterea tiparelor se considera o forma foarte sofisticata de computatie. Atunci, inseamna ca ar trebui sa putem modela un creier folosind logica matematica - el nefiind altceva decat un computer (asa se credea la vremea respectiva, astazi intelegem ca un creier e mult mai complex chiar decat cele mai puternice calculatoare digitale moderne)."
   ]
  },
  {
   "cell_type": "markdown",
   "id": "f5fe62c8-d84e-4425-9ea1-e58076ef6253",
   "metadata": {},
   "source": [
    "### Neuronul McCulloch-Pitts"
   ]
  },
  {
   "cell_type": "markdown",
   "id": "ee23b498-8eca-4671-aa19-ede3aca38942",
   "metadata": {},
   "source": [
    "McCulloch si Pitts si-au pus in minte sa inventeze o forma de neuron artificial cu care sa gaseasca aceasta corelatie intre logica matematica si computatia de la nivelul creierelor. Motivatia lor era sa creeze un creier artificial. S-au inspirat din neuronii biologici."
   ]
  },
  {
   "cell_type": "markdown",
   "id": "5a490e7e-3623-4ad9-93a7-0b3480c62af2",
   "metadata": {},
   "source": [
    "<div width=\"100%\" display=\"flex\" justify-content=\"center\">\n",
    "    <img src=\"neuron.jpg\" justify-self=\"center\" width=\"500\" height=\"340\"> \n",
    "</div>"
   ]
  },
  {
   "cell_type": "markdown",
   "id": "ab7ba089",
   "metadata": {},
   "source": [
    "Neuronii primesc pulsuri electrice prin unele dendrite excitate de neuronii sursa, iar prin altele nu primeste nimic, la fiecare moment de timp. Neuronul calculeaza o \"suma\" (sa zicem) a semnalelor electrice de la dendrite. Daca aceasta suma depaseste un prag de potential (diferit pentru fiecare neuron in parte), va transmite la randul lui un puls electric prin axon. Daca nu, nu va transmite nimic. Axonul sau se leaga prin terminali la cate o dendrita de alti neuroni."
   ]
  },
  {
   "cell_type": "markdown",
   "id": "c89bc3fe-a415-4699-b28e-6a92fc00c8da",
   "metadata": {},
   "source": [
    "Cei doi au plecat de la aceasta schita a neuronilor biologici si au creat urmatorul model matematic simplificat (OBSERVATIE: In desen, neuronul are doar doua semnale de intrare x, dar, in realitate, poate avea oricat de multe, asemeni dendritelor unui neuron biologic):"
   ]
  },
  {
   "cell_type": "markdown",
   "id": "46686a21-b30e-4407-b148-a350dc50eb29",
   "metadata": {},
   "source": [
    "<div>\n",
    "    <img src=\"rosenblatt.png\" />\n",
    "</div>"
   ]
  },
  {
   "cell_type": "markdown",
   "id": "1d392107-d5f3-432a-bbea-c270400c6d9d",
   "metadata": {},
   "source": [
    "<img src=\"formula1.png\" />"
   ]
  },
  {
   "cell_type": "markdown",
   "id": "3213a167-22fa-48f7-ad5f-34778e1520c9",
   "metadata": {},
   "source": [
    "<img src=\"formula2.png\" />"
   ]
  },
  {
   "cell_type": "markdown",
   "id": "ac86aaa1-f4ab-4b53-b656-65147a3c75c9",
   "metadata": {},
   "source": [
    "Semnalele de intrare x1, ..., xn sunt echivalente dendritelor care intra in neuron. Neuronul insumeaza semnalele (mai tari sau mai slabe) din dendrite si elibereaza un semnal de iesire electric prin axon (la noi y) daca aceasta suma depaseste un prag critic (la noi theta)."
   ]
  },
  {
   "cell_type": "markdown",
   "id": "cb120aa4-4537-4c59-972f-0953a3ede815",
   "metadata": {},
   "source": [
    "Este un model foarte simplificat, insa, asa cum am discutat la curs, putem crea porti logice cu astfel de neuroni artificiali, deci putem crea \"circuite\" (\"creiere\") mai sofisticate cu care sa facem computatie."
   ]
  },
  {
   "cell_type": "markdown",
   "id": "222fb65a-1558-45ba-96b9-7096a0f2e96a",
   "metadata": {},
   "source": [
    "Totusi, aceasta arhitectura este departe de a fi un creier care gandeste in vreun fel semnificativ. Fiindca ii lipseste un element crucial: nu poate sa invete."
   ]
  },
  {
   "cell_type": "markdown",
   "id": "cc4544ad-51e1-42a7-86db-c0299a5792aa",
   "metadata": {},
   "source": [
    "### Perceptronul Rosenblatt (Un Neuron McP mai avansat)"
   ]
  },
  {
   "cell_type": "markdown",
   "id": "2c213739-90ef-41a9-b103-0323adec96bf",
   "metadata": {},
   "source": [
    "Inspirandu-se din neuronii MCP si din principiul invatarii Hebbiane care castiga popularitate la acea vreme (\"neurons who fire together, wire together\"), Frank Rosenblatt a modificat arhitectura neuronului sintetic, adaugand \"ponderi\" fiecarui semnal de intrare (weights) si calculand in neuron suma ponderata din semnalele de intrare."
   ]
  },
  {
   "cell_type": "markdown",
   "id": "4dd29d80-df57-4a6b-bbc8-4e401295e5c8",
   "metadata": {},
   "source": [
    "In plus, a fixat pragul la 0, iar, multumita faptului ca ponderile apartin intervalului (-1, 1), acum, semnalele de intrare puteau lua si valori negative."
   ]
  },
  {
   "cell_type": "markdown",
   "id": "ed126a4c-7a94-49c4-b7b4-7e7d828662d1",
   "metadata": {},
   "source": [
    "<img src=\"neuron2.png\" />"
   ]
  },
  {
   "cell_type": "markdown",
   "id": "653da555-0165-4bdc-a1c0-3c49a773b1dc",
   "metadata": {},
   "source": [
    "<img src=\"formula3.png\" />"
   ]
  },
  {
   "cell_type": "markdown",
   "id": "84c42fe4-3a59-42f7-b29f-e4e27aebbf95",
   "metadata": {},
   "source": [
    "E clar ca astfel putem modela relatii mai sofisticate intre semnalele de intrare si cele de iesire. Insa una dintre caracteristicile cele mai importante ale unui creier adevarat este ca poate invata singur. Putem face un astfel de neuron sa invete?"
   ]
  },
  {
   "cell_type": "markdown",
   "id": "7d62fdc7-3396-40f1-bd51-fccda09630a6",
   "metadata": {},
   "source": [
    "Ce ar putea insemna pentru acesti neuroni sa \"invete\"? Frank Rosenblatt a propus ca, la inceput, \"weights\"-urile neuronilor sa nu fie fixe, ci sa fie modificate printr-un algoritm de invatare."
   ]
  },
  {
   "cell_type": "markdown",
   "id": "622585f2",
   "metadata": {},
   "source": [
    "Pe scurt, vom da neuronilor niste seturi de date formate din semnale de intrare si semnalul de iesire pe care il dorim pentru acele semnale de intrare. De exemplu, sa ne imaginam ca avem un neuron cu 5 \"dendrite\" de intrare. Vrem ca neuronul sa gaseasca niste \"weights\" pentru care urmatoarele semnale la intrare conduc la urmatoarele semnale de iesire:\n",
    "\n",
    "- 1 0 0 1 0 -----> 1 (cand neuronul are dendrita 1 si 4 active, si restul inactive, sa scoata prin axon un puls electric)\n",
    "- 0 0 0 1 0 -----> 1\n",
    "- 0 0 1 1 1 -----> 1\n",
    "- 1 1 0 0 1 -----> 0 (cand neuronul are dendritele 1, 2 si 5 active, dar 3 si 4 inactive, sa nu scoata un puls electric)\n",
    "- 1 1 0 0 0 -----> 0\n",
    "\n",
    "Acest exemplu este unul stupid, oarecum simplificat, dar la asta ne referim cand spunem ca neuronii coreleaza anumite semnale de intrare cu anumite iesiri. Evident, pentru a fi posibil acest lucru, trebuie sa gasim ce valori iau weights-urile fiecarui semnal de intrare al neuronului."
   ]
  },
  {
   "cell_type": "markdown",
   "id": "a5a75b23",
   "metadata": {},
   "source": [
    "Pentru invatarea propriu-zisa, Rosenblatt a propus urmatorul algoritm:\\\n",
    "- incepem cu toate weights-urile setate la 0\n",
    "- testam ce semnale de iesire obtinem pentru semnalele de intrare de mai sus; in general, rezultatele nu vor fi cele asteptate\n",
    "- pentru fiecare rezultat gresit, aplicam o corectie weights-urilor, favorabila acelui semnal de iesire, pana obtinem semnalul de iesire bun\n",
    "- cand mai verificam o data semnalele de iesire, e posibil ca o parte din cele pe care le-am corectat sa fie ok, dar, prin modificarea weights-urilor, sa avem alte semnale de iesire care nu mai sunt corecte\n",
    "- repetam corectia pentru toate semnalele de iesire care sunt gresite la acest pas\n",
    "- repetam verificarea si corectia (unde e necesara) pana avem toate semnalele de iesire corecte\n",
    "\n",
    "Acum, spunem ca neuronul s-a antrenat pe acest set de date."
   ]
  },
  {
   "cell_type": "markdown",
   "id": "9d9d76cd",
   "metadata": {
    "vscode": {
     "languageId": "plaintext"
    }
   },
   "source": [
    "OBSERVATIE: Acesti algoritmi pot parea lipsiti de importanta. Insa, in esenta, ceea ce am facut este sa inventam un algoritm care, in loc sa fie un set de pasi bine stabiliti de un programator, pt a ajunge de la datele de intrare la datele de iesire, invata singur corelatiile intre datele de intrare si cele de iesire, fara ca vreun programator sa ii mentioneze altceva decat cum sa invete din aceste date."
   ]
  },
  {
   "cell_type": "markdown",
   "id": "58b4e346-8fda-46ae-b324-192a263e0e7f",
   "metadata": {},
   "source": [
    "Astfel, din motive clare, pentru informaticienii de la acea vreme, inteligenta artificiala era, din multe puncte de vedere, magie neagra. Daca cineva putea inventa un astfel de algoritm de invatare - acesta ar fi adus odata cu el masini care \"gandesc\" in sensul adevarat al cuvantului. Asa credeau ei."
   ]
  },
  {
   "cell_type": "markdown",
   "id": "8f7432e6-0edc-431d-b71d-9ebe813afb3b",
   "metadata": {},
   "source": [
    "Rosenblatt a inventat acest prim algoritm de invatare automatizata (Machine Learning) prin anii 40-50. Il vom redescoperi impreuna la urmatorul curs, deoarece, mai intai, trebuie sa parcurgem librariile de Python cu care vom programa in acest domeniu, ca sa aiba sens codul pe care il scriem pentru toata lumea. :)"
   ]
  }
 ],
 "metadata": {
  "kernelspec": {
   "display_name": "Python 3 (ipykernel)",
   "language": "python",
   "name": "python3"
  },
  "language_info": {
   "codemirror_mode": {
    "name": "ipython",
    "version": 3
   },
   "file_extension": ".py",
   "mimetype": "text/x-python",
   "name": "python",
   "nbconvert_exporter": "python",
   "pygments_lexer": "ipython3",
   "version": "3.12.7"
  }
 },
 "nbformat": 4,
 "nbformat_minor": 5
}
