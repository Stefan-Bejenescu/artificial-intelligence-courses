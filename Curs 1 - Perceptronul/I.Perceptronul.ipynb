{
 "cells": [
  {
   "cell_type": "markdown",
   "id": "8b0a04e5-c8da-4497-8714-3dbffa6de3c6",
   "metadata": {},
   "source": [
    "## Curs 1 - Perceptronul McCulloch-Pitts"
   ]
  },
  {
   "cell_type": "markdown",
   "id": "e29d46ca-7115-493b-b8bb-1ac0741405e4",
   "metadata": {},
   "source": [
    "### Duck Science"
   ]
  },
  {
   "cell_type": "markdown",
   "id": "31d0beae-cff4-4c7f-956a-cd5431a34a24",
   "metadata": {},
   "source": [
    "In 1935, Konrad Lorenz descoperea mecanismul de \"imprinting\" prin care puii de rata se ataseaza de primul obiect __in miscare__ pe care il vad dupa ce ies din ou. Acesta concluzioneaza, printr-o serie de experimente, ca puisorii se ataseaza de obiecte __invatand sa recunoasca tipare__ ale acestora - puisorii isi recunosc \"mama\" dupa tiparele pe care le asociaza in creierele lor cu aceasta notiune."
   ]
  },
  {
   "cell_type": "markdown",
   "id": "96cd7563-6cc0-44cf-b9a8-ab110e634fe9",
   "metadata": {},
   "source": [
    "Astfel, Lorenz a argumentat ca, in natura, creierele au evoluat pentru a fi __detectoare de tipare foarte abile__ - detectia tiparelor, spune acesta, confera un avantaj in lupta pentru supravietuire, evolutia naturala promovand, astfel, aparitia creierelor din ce in ce mai sofisticate in timp, atu al speciilor din ce in ce mai dezvoltate."
   ]
  },
  {
   "cell_type": "markdown",
   "id": "e660411c-b708-494a-8a93-b52c24a13930",
   "metadata": {},
   "source": [
    "### Logica = Computatie"
   ]
  },
  {
   "cell_type": "markdown",
   "id": "b2b432d7-ce6a-4157-a051-2ed3bf04db6f",
   "metadata": {},
   "source": [
    "Tot prin acea perioada se popularizau ideile unui matematician britanic ce va fi numit ulterior unul din fondatorii computer science-ului modern - Alan Turing. Acesta a legat in lucrarile sale notiune de computatie - algoritmi, seturi de pasi bine definiti care sa rezolve o problema data - cu notiunea de logica booleana de baza."
   ]
  },
  {
   "cell_type": "markdown",
   "id": "587bee14-b998-4ec9-b055-cf56cd3259ff",
   "metadata": {},
   "source": [
    "Orice algoritm, orice forma de computatie, spunea el, poate fi creata folosind numai uneltele logicii matematice. Aceasta idee a inspirat ulterior crearea calculatoarelor electronice - deoarece circuitele digitale sunt o tehnologie foarte intuitiva pentru calculul logic - deci computatie."
   ]
  },
  {
   "cell_type": "markdown",
   "id": "f68c2257-833e-4b26-99ff-8835bcd925b9",
   "metadata": {},
   "source": [
    "Intrucat se considera ca recunoasterea tiparelor este o forma foarte sofisticata de computatie, au aparut argumente conform carora creierul ar fi un aparat computational biologic foarte performant, specializat pe recunoasterea tiparelor. Daca asta este adevarat, inseamna ca ar trebui sa putem modela un creier folosind logica matematica - el nefiind altceva decat un computer (asa se credea la vremea respectiva)."
   ]
  },
  {
   "cell_type": "markdown",
   "id": "f5fe62c8-d84e-4425-9ea1-e58076ef6253",
   "metadata": {},
   "source": [
    "### Neuronul Rosenblatt"
   ]
  },
  {
   "cell_type": "markdown",
   "id": "ee23b498-8eca-4671-aa19-ede3aca38942",
   "metadata": {},
   "source": [
    "Frank Rosenblatt si-a pus in minte sa inventeze o forma de neuron artificial cu care sa gaseasca aceasta corelatie intre logica matematica si computatia de la nivelul creierelor. Motivatia sa era sa creeze un creier artificial. Astfel, s-a inspirat din neuronii biologici."
   ]
  },
  {
   "cell_type": "markdown",
   "id": "5a490e7e-3623-4ad9-93a7-0b3480c62af2",
   "metadata": {},
   "source": [
    "<div width=\"100%\" display=\"flex\" justify-content=\"center\">\n",
    "    <img src=\"neuron.jpg\" justify-self=\"center\" width=\"500\" height=\"340\"> \n",
    "</div>"
   ]
  },
  {
   "cell_type": "markdown",
   "id": "c89bc3fe-a415-4699-b28e-6a92fc00c8da",
   "metadata": {},
   "source": [
    "Si a creat urmatorul model matematic simplificat (OBSERVATIE: In desen, neuronul are doar doua semnale de intrare x, dar, in realitate, poate avea oricat de multe, asemeni dendritelor unui neuron biologic):"
   ]
  },
  {
   "cell_type": "markdown",
   "id": "46686a21-b30e-4407-b148-a350dc50eb29",
   "metadata": {},
   "source": [
    "<div>\n",
    "    <img src=\"rosenblatt.png\" />\n",
    "</div>"
   ]
  },
  {
   "cell_type": "markdown",
   "id": "1d392107-d5f3-432a-bbea-c270400c6d9d",
   "metadata": {},
   "source": [
    "<img src=\"formula1.png\" />"
   ]
  },
  {
   "cell_type": "markdown",
   "id": "3213a167-22fa-48f7-ad5f-34778e1520c9",
   "metadata": {},
   "source": [
    "<img src=\"formula2.png\" />"
   ]
  },
  {
   "cell_type": "markdown",
   "id": "ac86aaa1-f4ab-4b53-b656-65147a3c75c9",
   "metadata": {},
   "source": [
    "Semnalele de intrare x1, ..., xn sunt echivalente dendritelor care intra in neuron. Neuronul insumeaza semnalele (mai tari sau mai slabe) din dendrite si elibereaza un semnal de iesire electric prin axon (la noi y) daca aceasta suma depaseste un prag critic (la noi theta)."
   ]
  },
  {
   "cell_type": "markdown",
   "id": "cb120aa4-4537-4c59-972f-0953a3ede815",
   "metadata": {},
   "source": [
    "Este un model foarte simplificat, insa, asa cum am discutat la curs, putem crea porti logice cu astfel de neuroni artificiali, deci putem crea \"circuite\" (\"creiere\") mai sofisticate cu care sa facem computatie."
   ]
  },
  {
   "cell_type": "markdown",
   "id": "222fb65a-1558-45ba-96b9-7096a0f2e96a",
   "metadata": {},
   "source": [
    "Totusi, aceasta arhitectura este departe de a fi un creier care gandeste in vreun fel semnificativ."
   ]
  },
  {
   "cell_type": "markdown",
   "id": "cc4544ad-51e1-42a7-86db-c0299a5792aa",
   "metadata": {},
   "source": [
    "### Neuronul McCulloch-Pitts"
   ]
  },
  {
   "cell_type": "markdown",
   "id": "2c213739-90ef-41a9-b103-0323adec96bf",
   "metadata": {},
   "source": [
    "Inspirati de neuronii lui Rosenblatt si de principiul invatarii Hebbiana care castiga popularitate la acea vreme (\"neurons who fire together, wire together\"), McCulloch si Pitts au modificat arhitectura neuronului sintetic, adaugand \"ponderi\" fiecarui semnal de intrare (weights) si facand calculand in neuron suma ponderata din semnalele de intrare."
   ]
  },
  {
   "cell_type": "markdown",
   "id": "4dd29d80-df57-4a6b-bbc8-4e401295e5c8",
   "metadata": {},
   "source": [
    "In plus, au fixat pragul la 0, iar, multumita faptului ca ponderile apartin intervalului (-1, 1), acum, semnalele de intrare pot lua si valori negative."
   ]
  },
  {
   "cell_type": "markdown",
   "id": "ed126a4c-7a94-49c4-b7b4-7e7d828662d1",
   "metadata": {},
   "source": [
    "<img src=\"neuron2.png\" />"
   ]
  },
  {
   "cell_type": "markdown",
   "id": "653da555-0165-4bdc-a1c0-3c49a773b1dc",
   "metadata": {},
   "source": [
    "<img src=\"formula3.png\" />"
   ]
  },
  {
   "cell_type": "markdown",
   "id": "84c42fe4-3a59-42f7-b29f-e4e27aebbf95",
   "metadata": {},
   "source": [
    "E clar ca astfel putem modela relatii mai sofisticate intre semnalele de intrare si cele de iesire. Insa una dintre caracteristicile cele mai importante ale unui creier adevarat este ca poate invata singur. Putem face un astfel de neuron sa invete?"
   ]
  },
  {
   "cell_type": "markdown",
   "id": "7d62fdc7-3396-40f1-bd51-fccda09630a6",
   "metadata": {},
   "source": [
    "Ce ar putea insemna pentru acesti neuroni sa \"invete\"? McCulloch si Pitts au ales sa se gandeasca la \"weights\" ca la o serie de parametri care trebuie invatati de neuron."
   ]
  },
  {
   "cell_type": "markdown",
   "id": "58b4e346-8fda-46ae-b324-192a263e0e7f",
   "metadata": {},
   "source": [
    "Cu alte cuvinte, cautam un algoritm pe care neuronul sa il foloseasca pentru a \"invata\" singur weights-urile optime astfel incat sa coreleze corect o serie de semnale de intrare cu semnalele lor de iesire."
   ]
  },
  {
   "cell_type": "markdown",
   "id": "1dcebf5f-a428-4336-91fa-906fa79c0e76",
   "metadata": {},
   "source": [
    "Vom discuta la cursul urmatorul despre cum putem exact sa facem asta, deoarece mai intai trebuie sa introducem cateva librarii fundamentale cu care vom lucra in domeniul Inteligentei Artificiale."
   ]
  },
  {
   "cell_type": "code",
   "execution_count": null,
   "id": "8f7432e6-0edc-431d-b71d-9ebe813afb3b",
   "metadata": {},
   "outputs": [],
   "source": []
  }
 ],
 "metadata": {
  "kernelspec": {
   "display_name": "Python 3 (ipykernel)",
   "language": "python",
   "name": "python3"
  },
  "language_info": {
   "codemirror_mode": {
    "name": "ipython",
    "version": 3
   },
   "file_extension": ".py",
   "mimetype": "text/x-python",
   "name": "python",
   "nbconvert_exporter": "python",
   "pygments_lexer": "ipython3",
   "version": "3.12.7"
  }
 },
 "nbformat": 4,
 "nbformat_minor": 5
}
